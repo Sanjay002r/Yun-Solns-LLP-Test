{
 "cells": [
  {
   "cell_type": "code",
   "execution_count": null,
   "id": "e7173adb-18e6-4a0f-89f6-79bd2b56aeed",
   "metadata": {},
   "outputs": [],
   "source": [
    "import pandas as pd\n",
    "import numpy as np\n",
    "from sklearn.cluster import DBSCAN"
   ]
  },
  {
   "cell_type": "code",
   "execution_count": null,
   "id": "3cd91bbc-c403-4cef-a186-f1b12e202709",
   "metadata": {},
   "outputs": [],
   "source": [
    "data = {'x': [0, 0.1, 0.4, 1.5, 1.6, 3.0],\n",
    "        'y': [0, 0.2, 0.8, 3.0, 3.2, 6.0]}\n",
    "df = pd.DataFrame(data)\n",
    "coords = df[['x','y']].values"
   ]
  },
  {
   "cell_type": "markdown",
   "id": "f87fc0a8-8307-46e2-a0ea-12d6845e8517",
   "metadata": {},
   "source": [
    "## Applying DBSCAN Clustering"
   ]
  },
  {
   "cell_type": "code",
   "execution_count": null,
   "id": "1e83ec7a-a58d-4ad0-913e-4b674c12797a",
   "metadata": {},
   "outputs": [],
   "source": [
    "cluster= DBSCAN(eps=0.5, min_samples=1, metric = 'euclidean').fit(coords)\n",
    "df['group']=cluster.labels_\n",
    "print(df)"
   ]
  },
  {
   "cell_type": "code",
   "execution_count": null,
   "id": "91fa608b-dcaf-448e-9193-a1cf26995361",
   "metadata": {},
   "outputs": [],
   "source": []
  }
 ],
 "metadata": {
  "kernelspec": {
   "display_name": "Python 3 (ipykernel)",
   "language": "python",
   "name": "python3"
  },
  "language_info": {
   "codemirror_mode": {
    "name": "ipython",
    "version": 3
   },
   "file_extension": ".py",
   "mimetype": "text/x-python",
   "name": "python",
   "nbconvert_exporter": "python",
   "pygments_lexer": "ipython3",
   "version": "3.11.3"
  }
 },
 "nbformat": 4,
 "nbformat_minor": 5
}
